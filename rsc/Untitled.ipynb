{
 "cells": [
  {
   "cell_type": "code",
   "execution_count": 2,
   "metadata": {
    "collapsed": true
   },
   "outputs": [],
   "source": [
    "bibleoutline = {'Genesis':          {'abbr': 'Gen', 'chapters': 50},\n",
    "                    'Exodus':           {'abbr': 'Ex', 'chapters': 40},\n",
    "                    'Leviticus':        {'abbr': 'Lev', 'chapters': 27},\n",
    "                    'Numbers':          {'abbr': 'Num', 'chapters': 36},\n",
    "                    'Deuteronomy':      {'abbr': 'Deut', 'chapters': 34},\n",
    "                    'Joshua':           {'abbr': 'Josh', 'chapters': 24},\n",
    "                    'Judges':           {'abbr': 'Jdg', 'chapters': 21},\n",
    "                    'Ruth':             {'abbr': 'Ruth', 'chapters': 4},\n",
    "                    '1 Samuel':         {'abbr': '1 Sam', 'chapters': 31},\n",
    "                    '2 Samuel':         {'abbr': '2 Sam', 'chapters': 24},\n",
    "                    '1 Kings':          {'abbr': '1 King', 'chapters': 22},\n",
    "                    '2 Kings':          {'abbr': '2 King', 'chapters': 25},\n",
    "                    '1 Chronicles':     {'abbr': '1 Chr', 'chapters': 29},\n",
    "                    '2 Chronicles':     {'abbr': '2 Chr', 'chapters': 36},\n",
    "                    'Ezra':             {'abbr': 'Ezr', 'chapters': 10},\n",
    "                    'Nehemiah':         {'abbr': 'Neh', 'chapters': 13},\n",
    "                    'Esther':           {'abbr': 'Est', 'chapters': 10},\n",
    "                    'Job':              {'abbr': 'Job', 'chapters': 42},\n",
    "                    'Psalms':           {'abbr': 'Psa', 'chapters': 150},\n",
    "                    'Proverbs':         {'abbr': 'Prov', 'chapters': 31},\n",
    "                    'Ecclesiastes':     {'abbr': 'Ecc', 'chapters': 12},\n",
    "                    'Song of Songs':    {'abbr': 'Song', 'chapters': 8},\n",
    "                    'Lamentation':      {'abbr': 'Lam', 'chapters': 5},\n",
    "                    'Isaiah':           {'abbr': 'Isa', 'chapters': 66},\n",
    "                    'Jeremiah':         {'abbr': 'Jer', 'chapters': 52},\n",
    "                    'Ezekiel':          {'abbr': 'Eze', 'chapters': 48},\n",
    "                    'Daniel':           {'abbr': 'Dan', 'chapters': 12},\n",
    "                    'Hosea':            {'abbr': 'Hos', 'chapters': 14},\n",
    "                    'Joel':             {'abbr': 'Joel', 'chapters': 3},\n",
    "                    'Amos':             {'abbr': 'Amos', 'chapters': 9},\n",
    "                    'Obadiah':          {'abbr': 'Ob', 'chapters': 1},\n",
    "                    'Jonah':            {'abbr': 'Jon', 'chapters': 4},\n",
    "                    'Micah':            {'abbr': 'Mic', 'chapters': 7},\n",
    "                    'Nahum':            {'abbr': 'Nah', 'chapters': 3},\n",
    "                    'Habakkuk':         {'abbr': 'Hab', 'chapters': 3},\n",
    "                    'Zephaniah':        {'abbr': 'Zep', 'chapters': 3},\n",
    "                    'Haggai':           {'abbr': 'Hag', 'chapters': 2},\n",
    "                    'Zechariah':        {'abbr': 'Zec', 'chapters': 14},\n",
    "                    'Malachi':          {'abbr': 'Mal', 'chapters': 4},\n",
    "                    'Matthew':          {'abbr': 'Matt', 'chapters': 28},\n",
    "                    'Mark':             {'abbr': 'Mrk', 'chapters': 16},\n",
    "                    'Luke':             {'abbr': 'Luke', 'chapters': 24},\n",
    "                    'John':             {'abbr': 'John', 'chapters': 21},\n",
    "                    'Acts':             {'abbr': 'Acts', 'chapters': 28},\n",
    "                    'Romans':           {'abbr': 'Rom', 'chapters': 16},\n",
    "                    '1 Corinthians':    {'abbr': '1 Cor', 'chapters': 16},\n",
    "                    '2 Corinthians':    {'abbr': '2 Cor', 'chapters': 13},\n",
    "                    'Galatians':        {'abbr': 'Gal', 'chapters': 6},\n",
    "                    'Ephesians':        {'abbr': 'Eph', 'chapters': 6},\n",
    "                    'Philippians':      {'abbr': 'Php', 'chapters': 4},\n",
    "                    'Colossians':       {'abbr': 'Col', 'chapters': 4},\n",
    "                    '1 Thessalonians':  {'abbr': '1 Th', 'chapters': 5},\n",
    "                    '2 Thessalonians':  {'abbr': '2 Th', 'chapters': 3},\n",
    "                    '1 Timothy':        {'abbr': '1 Tim', 'chapters': 6},\n",
    "                    '2 Timothy':        {'abbr': '2 Tim', 'chapters': 4},\n",
    "                    'Titus':            {'abbr': 'Tit', 'chapters': 3},\n",
    "                    'Philemon':         {'abbr': 'Phm', 'chapters': 1},\n",
    "                    'Hebrews':          {'abbr': 'Heb', 'chapters': 13},\n",
    "                    'James':            {'abbr': 'Jam', 'chapters': 5},\n",
    "                    '1 Peter':          {'abbr': '1 Pet', 'chapters': 5},\n",
    "                    '2 Peter':          {'abbr': '2 Pet', 'chapters': 3},\n",
    "                    '1 John':           {'abbr': '1 Jhn', 'chapters': 5},\n",
    "                    '2 John':           {'abbr': '2 Jhn', 'chapters': 1},\n",
    "                    '3 John':           {'abbr': '3 Jhn', 'chapters': 1},\n",
    "                    'Jude':             {'abbr': 'Jud', 'chapters': 1},\n",
    "                    'Revelation':       {'abbr': 'Rev', 'chapters': 22}}"
   ]
  },
  {
   "cell_type": "code",
   "execution_count": 4,
   "metadata": {
    "collapsed": false
   },
   "outputs": [
    {
     "name": "stdout",
     "output_type": "stream",
     "text": [
      "['1 Timothy', 'Leviticus', 'Amos', 'Zephaniah', 'Proverbs', 'John', 'Mark', 'Malachi', 'Judges', '2 Chronicles', '2 Timothy', 'Song of Songs', 'Ecclesiastes', 'Ephesians', 'Joel', 'Job', '2 Samuel', 'Numbers', 'Romans', '3 John', 'Hebrews', 'Philemon', 'Jonah', 'Galatians', 'James', 'Nahum', 'Colossians', 'Ezekiel', 'Titus', '1 Chronicles', 'Haggai', 'Obadiah', '2 John', 'Hosea', '2 Peter', 'Psalms', 'Luke', '1 Corinthians', '1 John', 'Deuteronomy', 'Ruth', '1 Peter', '1 Samuel', '2 Kings', 'Habakkuk', 'Esther', 'Matthew', 'Genesis', 'Nehemiah', 'Exodus', 'Jude', '2 Corinthians', 'Daniel', 'Lamentation', '1 Thessalonians', '2 Thessalonians', 'Isaiah', 'Acts', 'Philippians', 'Zechariah', '1 Kings', 'Joshua', 'Ezra', 'Micah', 'Revelation', 'Jeremiah']\n"
     ]
    }
   ],
   "source": [
    "print(list(bibleoutline.keys()))"
   ]
  },
  {
   "cell_type": "code",
   "execution_count": 6,
   "metadata": {
    "collapsed": false
   },
   "outputs": [
    {
     "name": "stdout",
     "output_type": "stream",
     "text": [
      "--1, 2, 3\n"
     ]
    },
    {
     "data": {
      "text/plain": [
       "['1', ' 2', ' 3']"
      ]
     },
     "execution_count": 6,
     "metadata": {},
     "output_type": "execute_result"
    }
   ],
   "source": [
    "test = input('--')\n",
    "tlist = test.split(',')\n",
    "tlist"
   ]
  },
  {
   "cell_type": "code",
   "execution_count": 8,
   "metadata": {
    "collapsed": false
   },
   "outputs": [
    {
     "data": {
      "text/plain": [
       "'1 2 3.4 4.5'"
      ]
     },
     "execution_count": 8,
     "metadata": {},
     "output_type": "execute_result"
    }
   ],
   "source": [
    "'{} {} {} {}'.format(1, '2', 3.4, '4.5')"
   ]
  },
  {
   "cell_type": "code",
   "execution_count": null,
   "metadata": {
    "collapsed": true
   },
   "outputs": [],
   "source": []
  }
 ],
 "metadata": {
  "kernelspec": {
   "display_name": "Python 3",
   "language": "python",
   "name": "python3"
  },
  "language_info": {
   "codemirror_mode": {
    "name": "ipython",
    "version": 3
   },
   "file_extension": ".py",
   "mimetype": "text/x-python",
   "name": "python",
   "nbconvert_exporter": "python",
   "pygments_lexer": "ipython3",
   "version": "3.5.3"
  }
 },
 "nbformat": 4,
 "nbformat_minor": 0
}
